{
 "cells": [
  {
   "cell_type": "code",
   "execution_count": 6,
   "metadata": {
    "collapsed": true
   },
   "outputs": [],
   "source": [
    "import numpy as np\n",
    "import pandas as pd\n",
    "import matplotlib.pyplot as plt\n",
    "from matplotlib import style\n",
    "style.use(ggplot)"
   ]
  },
  {
   "cell_type": "code",
   "execution_count": 27,
   "metadata": {},
   "outputs": [
    {
     "name": "stdout",
     "output_type": "stream",
     "text": [
      "   Bounce_Rate  Day  Visitors\n",
      "0           65    1        34\n",
      "1           56    2        55\n",
      "2           78    3        45\n",
      "3           77    4        32\n",
      "4           56    5        44\n",
      "5           67    6        56\n",
      "   Bounce_Rate  Day  Visitors\n",
      "1           56    2        55\n",
      "2           78    3        45\n",
      "3           77    4        32\n",
      "4           56    5        44\n",
      "5           67    6        56\n",
      "   Bounce_Rate  Day  Visitors\n",
      "0           65    1        34\n",
      "1           56    2        55\n",
      "2           78    3        45\n",
      "3           77    4        32\n",
      "4           56    5        44\n"
     ]
    }
   ],
   "source": [
    "web_stats = {\"Day\": [1,2,3,4,5,6],\n",
    "            \"Visitors\":[34,55,45,32,44,56],\n",
    "            \"Bounce_Rate\": [65,56,78,77,56,67]}\n",
    "df = pd.DataFrame(web_stats)\n",
    "print(df)\n",
    "print(df.tail())\n",
    "print(df.head())"
   ]
  },
  {
   "cell_type": "markdown",
   "metadata": {},
   "source": [
    "## New cell \n",
    "* a\n",
    "* b "
   ]
  },
  {
   "cell_type": "code",
   "execution_count": 13,
   "metadata": {},
   "outputs": [],
   "source": [
    "#df2 = df.set_index('Day')"
   ]
  },
  {
   "cell_type": "code",
   "execution_count": 24,
   "metadata": {},
   "outputs": [],
   "source": [
    "#df.set_index('Day', inplace = True)"
   ]
  },
  {
   "cell_type": "code",
   "execution_count": 28,
   "metadata": {},
   "outputs": [
    {
     "data": {
      "text/plain": [
       "0    34\n",
       "1    55\n",
       "2    45\n",
       "3    32\n",
       "4    44\n",
       "5    56\n",
       "Name: Visitors, dtype: int64"
      ]
     },
     "execution_count": 28,
     "metadata": {},
     "output_type": "execute_result"
    }
   ],
   "source": [
    "df['Visitors']"
   ]
  },
  {
   "cell_type": "code",
   "execution_count": 29,
   "metadata": {},
   "outputs": [
    {
     "data": {
      "text/plain": [
       "0    34\n",
       "1    55\n",
       "2    45\n",
       "3    32\n",
       "4    44\n",
       "5    56\n",
       "Name: Visitors, dtype: int64"
      ]
     },
     "execution_count": 29,
     "metadata": {},
     "output_type": "execute_result"
    }
   ],
   "source": [
    "df.Visitors"
   ]
  },
  {
   "cell_type": "code",
   "execution_count": 30,
   "metadata": {},
   "outputs": [
    {
     "data": {
      "text/html": [
       "<div>\n",
       "<style>\n",
       "    .dataframe thead tr:only-child th {\n",
       "        text-align: right;\n",
       "    }\n",
       "\n",
       "    .dataframe thead th {\n",
       "        text-align: left;\n",
       "    }\n",
       "\n",
       "    .dataframe tbody tr th {\n",
       "        vertical-align: top;\n",
       "    }\n",
       "</style>\n",
       "<table border=\"1\" class=\"dataframe\">\n",
       "  <thead>\n",
       "    <tr style=\"text-align: right;\">\n",
       "      <th></th>\n",
       "      <th>Day</th>\n",
       "      <th>Visitors</th>\n",
       "    </tr>\n",
       "  </thead>\n",
       "  <tbody>\n",
       "    <tr>\n",
       "      <th>0</th>\n",
       "      <td>1</td>\n",
       "      <td>34</td>\n",
       "    </tr>\n",
       "    <tr>\n",
       "      <th>1</th>\n",
       "      <td>2</td>\n",
       "      <td>55</td>\n",
       "    </tr>\n",
       "    <tr>\n",
       "      <th>2</th>\n",
       "      <td>3</td>\n",
       "      <td>45</td>\n",
       "    </tr>\n",
       "    <tr>\n",
       "      <th>3</th>\n",
       "      <td>4</td>\n",
       "      <td>32</td>\n",
       "    </tr>\n",
       "    <tr>\n",
       "      <th>4</th>\n",
       "      <td>5</td>\n",
       "      <td>44</td>\n",
       "    </tr>\n",
       "    <tr>\n",
       "      <th>5</th>\n",
       "      <td>6</td>\n",
       "      <td>56</td>\n",
       "    </tr>\n",
       "  </tbody>\n",
       "</table>\n",
       "</div>"
      ],
      "text/plain": [
       "   Day  Visitors\n",
       "0    1        34\n",
       "1    2        55\n",
       "2    3        45\n",
       "3    4        32\n",
       "4    5        44\n",
       "5    6        56"
      ]
     },
     "execution_count": 30,
     "metadata": {},
     "output_type": "execute_result"
    }
   ],
   "source": [
    "df[['Day','Visitors']]"
   ]
  },
  {
   "cell_type": "code",
   "execution_count": 34,
   "metadata": {},
   "outputs": [
    {
     "data": {
      "text/plain": [
       "[34, 55, 45, 32, 44, 56]"
      ]
     },
     "execution_count": 34,
     "metadata": {},
     "output_type": "execute_result"
    }
   ],
   "source": [
    "df['Visitors'].tolist()"
   ]
  },
  {
   "cell_type": "code",
   "execution_count": 36,
   "metadata": {},
   "outputs": [
    {
     "name": "stdout",
     "output_type": "stream",
     "text": [
      "[[ 1 34]\n",
      " [ 2 55]\n",
      " [ 3 45]\n",
      " [ 4 32]\n",
      " [ 5 44]\n",
      " [ 6 56]]\n"
     ]
    }
   ],
   "source": [
    "print(np.array(df[['Day','Visitors']]))"
   ]
  },
  {
   "cell_type": "code",
   "execution_count": 38,
   "metadata": {},
   "outputs": [
    {
     "data": {
      "text/html": [
       "<div>\n",
       "<style>\n",
       "    .dataframe thead tr:only-child th {\n",
       "        text-align: right;\n",
       "    }\n",
       "\n",
       "    .dataframe thead th {\n",
       "        text-align: left;\n",
       "    }\n",
       "\n",
       "    .dataframe tbody tr th {\n",
       "        vertical-align: top;\n",
       "    }\n",
       "</style>\n",
       "<table border=\"1\" class=\"dataframe\">\n",
       "  <thead>\n",
       "    <tr style=\"text-align: right;\">\n",
       "      <th></th>\n",
       "      <th>0</th>\n",
       "      <th>1</th>\n",
       "    </tr>\n",
       "  </thead>\n",
       "  <tbody>\n",
       "    <tr>\n",
       "      <th>0</th>\n",
       "      <td>1</td>\n",
       "      <td>34</td>\n",
       "    </tr>\n",
       "    <tr>\n",
       "      <th>1</th>\n",
       "      <td>2</td>\n",
       "      <td>55</td>\n",
       "    </tr>\n",
       "    <tr>\n",
       "      <th>2</th>\n",
       "      <td>3</td>\n",
       "      <td>45</td>\n",
       "    </tr>\n",
       "    <tr>\n",
       "      <th>3</th>\n",
       "      <td>4</td>\n",
       "      <td>32</td>\n",
       "    </tr>\n",
       "    <tr>\n",
       "      <th>4</th>\n",
       "      <td>5</td>\n",
       "      <td>44</td>\n",
       "    </tr>\n",
       "    <tr>\n",
       "      <th>5</th>\n",
       "      <td>6</td>\n",
       "      <td>56</td>\n",
       "    </tr>\n",
       "  </tbody>\n",
       "</table>\n",
       "</div>"
      ],
      "text/plain": [
       "   0   1\n",
       "0  1  34\n",
       "1  2  55\n",
       "2  3  45\n",
       "3  4  32\n",
       "4  5  44\n",
       "5  6  56"
      ]
     },
     "execution_count": 38,
     "metadata": {},
     "output_type": "execute_result"
    }
   ],
   "source": [
    "df3 = pd.DataFrame(np.array(df[['Day','Visitors']]))\n",
    "df3"
   ]
  },
  {
   "cell_type": "code",
   "execution_count": 47,
   "metadata": {},
   "outputs": [
    {
     "data": {
      "text/html": [
       "<div>\n",
       "<style>\n",
       "    .dataframe thead tr:only-child th {\n",
       "        text-align: right;\n",
       "    }\n",
       "\n",
       "    .dataframe thead th {\n",
       "        text-align: left;\n",
       "    }\n",
       "\n",
       "    .dataframe tbody tr th {\n",
       "        vertical-align: top;\n",
       "    }\n",
       "</style>\n",
       "<table border=\"1\" class=\"dataframe\">\n",
       "  <thead>\n",
       "    <tr style=\"text-align: right;\">\n",
       "      <th></th>\n",
       "      <th>OrganisationLabel</th>\n",
       "      <th>OrganisationURI</th>\n",
       "      <th>PublishedDate</th>\n",
       "      <th>LatestData</th>\n",
       "      <th>DurationFrom</th>\n",
       "      <th>DurationTo</th>\n",
       "      <th>ReportingPeriodType</th>\n",
       "      <th>GeoEntityName</th>\n",
       "      <th>GeoCode</th>\n",
       "      <th>GeoName</th>\n",
       "      <th>GeoURI</th>\n",
       "      <th>AveragePrice</th>\n",
       "      <th>AveragePriceDetached</th>\n",
       "      <th>AveragePriceSemiDetached</th>\n",
       "      <th>AveragePriceTerraced</th>\n",
       "      <th>AveragePriceFlatOrMaisonette</th>\n",
       "    </tr>\n",
       "    <tr>\n",
       "      <th>Month</th>\n",
       "      <th></th>\n",
       "      <th></th>\n",
       "      <th></th>\n",
       "      <th></th>\n",
       "      <th></th>\n",
       "      <th></th>\n",
       "      <th></th>\n",
       "      <th></th>\n",
       "      <th></th>\n",
       "      <th></th>\n",
       "      <th></th>\n",
       "      <th></th>\n",
       "      <th></th>\n",
       "      <th></th>\n",
       "      <th></th>\n",
       "      <th></th>\n",
       "    </tr>\n",
       "  </thead>\n",
       "  <tbody>\n",
       "    <tr>\n",
       "      <th>2018-06</th>\n",
       "      <td>Lincolnshire</td>\n",
       "      <td>http://opendatacommunities.org/id/county-counc...</td>\n",
       "      <td>2018-08-22T00:00:00</td>\n",
       "      <td>True</td>\n",
       "      <td>2018-06-01T00:00:00</td>\n",
       "      <td>2018-06-30T23:59:59</td>\n",
       "      <td>Month</td>\n",
       "      <td>District Council</td>\n",
       "      <td>E07000136</td>\n",
       "      <td>Boston</td>\n",
       "      <td>http://statistics.data.gov.uk/doc/statistical-...</td>\n",
       "      <td>153458</td>\n",
       "      <td>210267</td>\n",
       "      <td>131631</td>\n",
       "      <td>105835</td>\n",
       "      <td>82069</td>\n",
       "    </tr>\n",
       "    <tr>\n",
       "      <th>2018-06</th>\n",
       "      <td>Lincolnshire</td>\n",
       "      <td>http://opendatacommunities.org/id/county-counc...</td>\n",
       "      <td>2018-08-22T00:00:00</td>\n",
       "      <td>True</td>\n",
       "      <td>2018-06-01T00:00:00</td>\n",
       "      <td>2018-06-30T23:59:59</td>\n",
       "      <td>Month</td>\n",
       "      <td>District Council</td>\n",
       "      <td>E07000137</td>\n",
       "      <td>East Lindsey</td>\n",
       "      <td>http://statistics.data.gov.uk/doc/statistical-...</td>\n",
       "      <td>169255</td>\n",
       "      <td>208535</td>\n",
       "      <td>144062</td>\n",
       "      <td>114716</td>\n",
       "      <td>86208</td>\n",
       "    </tr>\n",
       "    <tr>\n",
       "      <th>2018-06</th>\n",
       "      <td>Lincolnshire</td>\n",
       "      <td>http://opendatacommunities.org/id/county-counc...</td>\n",
       "      <td>2018-08-22T00:00:00</td>\n",
       "      <td>True</td>\n",
       "      <td>2018-06-01T00:00:00</td>\n",
       "      <td>2018-06-30T23:59:59</td>\n",
       "      <td>Month</td>\n",
       "      <td>District Council</td>\n",
       "      <td>E07000138</td>\n",
       "      <td>Lincoln</td>\n",
       "      <td>http://statistics.data.gov.uk/doc/statistical-...</td>\n",
       "      <td>147578</td>\n",
       "      <td>235597</td>\n",
       "      <td>159052</td>\n",
       "      <td>122782</td>\n",
       "      <td>100896</td>\n",
       "    </tr>\n",
       "    <tr>\n",
       "      <th>2018-06</th>\n",
       "      <td>Lincolnshire</td>\n",
       "      <td>http://opendatacommunities.org/id/county-counc...</td>\n",
       "      <td>2018-08-22T00:00:00</td>\n",
       "      <td>True</td>\n",
       "      <td>2018-06-01T00:00:00</td>\n",
       "      <td>2018-06-30T23:59:59</td>\n",
       "      <td>Month</td>\n",
       "      <td>District Council</td>\n",
       "      <td>E07000139</td>\n",
       "      <td>North Kesteven</td>\n",
       "      <td>http://statistics.data.gov.uk/doc/statistical-...</td>\n",
       "      <td>205763</td>\n",
       "      <td>249046</td>\n",
       "      <td>169806</td>\n",
       "      <td>141247</td>\n",
       "      <td>101705</td>\n",
       "    </tr>\n",
       "    <tr>\n",
       "      <th>2018-06</th>\n",
       "      <td>Lincolnshire</td>\n",
       "      <td>http://opendatacommunities.org/id/county-counc...</td>\n",
       "      <td>2018-08-22T00:00:00</td>\n",
       "      <td>True</td>\n",
       "      <td>2018-06-01T00:00:00</td>\n",
       "      <td>2018-06-30T23:59:59</td>\n",
       "      <td>Month</td>\n",
       "      <td>District Council</td>\n",
       "      <td>E07000140</td>\n",
       "      <td>South Holland</td>\n",
       "      <td>http://statistics.data.gov.uk/doc/statistical-...</td>\n",
       "      <td>185205</td>\n",
       "      <td>228877</td>\n",
       "      <td>157058</td>\n",
       "      <td>128691</td>\n",
       "      <td>86009</td>\n",
       "    </tr>\n",
       "  </tbody>\n",
       "</table>\n",
       "</div>"
      ],
      "text/plain": [
       "        OrganisationLabel                                    OrganisationURI  \\\n",
       "Month                                                                          \n",
       "2018-06      Lincolnshire  http://opendatacommunities.org/id/county-counc...   \n",
       "2018-06      Lincolnshire  http://opendatacommunities.org/id/county-counc...   \n",
       "2018-06      Lincolnshire  http://opendatacommunities.org/id/county-counc...   \n",
       "2018-06      Lincolnshire  http://opendatacommunities.org/id/county-counc...   \n",
       "2018-06      Lincolnshire  http://opendatacommunities.org/id/county-counc...   \n",
       "\n",
       "               PublishedDate LatestData         DurationFrom  \\\n",
       "Month                                                          \n",
       "2018-06  2018-08-22T00:00:00       True  2018-06-01T00:00:00   \n",
       "2018-06  2018-08-22T00:00:00       True  2018-06-01T00:00:00   \n",
       "2018-06  2018-08-22T00:00:00       True  2018-06-01T00:00:00   \n",
       "2018-06  2018-08-22T00:00:00       True  2018-06-01T00:00:00   \n",
       "2018-06  2018-08-22T00:00:00       True  2018-06-01T00:00:00   \n",
       "\n",
       "                  DurationTo ReportingPeriodType     GeoEntityName    GeoCode  \\\n",
       "Month                                                                           \n",
       "2018-06  2018-06-30T23:59:59               Month  District Council  E07000136   \n",
       "2018-06  2018-06-30T23:59:59               Month  District Council  E07000137   \n",
       "2018-06  2018-06-30T23:59:59               Month  District Council  E07000138   \n",
       "2018-06  2018-06-30T23:59:59               Month  District Council  E07000139   \n",
       "2018-06  2018-06-30T23:59:59               Month  District Council  E07000140   \n",
       "\n",
       "                GeoName                                             GeoURI  \\\n",
       "Month                                                                        \n",
       "2018-06          Boston  http://statistics.data.gov.uk/doc/statistical-...   \n",
       "2018-06    East Lindsey  http://statistics.data.gov.uk/doc/statistical-...   \n",
       "2018-06         Lincoln  http://statistics.data.gov.uk/doc/statistical-...   \n",
       "2018-06  North Kesteven  http://statistics.data.gov.uk/doc/statistical-...   \n",
       "2018-06   South Holland  http://statistics.data.gov.uk/doc/statistical-...   \n",
       "\n",
       "         AveragePrice  AveragePriceDetached  AveragePriceSemiDetached  \\\n",
       "Month                                                                   \n",
       "2018-06        153458                210267                    131631   \n",
       "2018-06        169255                208535                    144062   \n",
       "2018-06        147578                235597                    159052   \n",
       "2018-06        205763                249046                    169806   \n",
       "2018-06        185205                228877                    157058   \n",
       "\n",
       "         AveragePriceTerraced  AveragePriceFlatOrMaisonette  \n",
       "Month                                                        \n",
       "2018-06                105835                         82069  \n",
       "2018-06                114716                         86208  \n",
       "2018-06                122782                        100896  \n",
       "2018-06                141247                        101705  \n",
       "2018-06                128691                         86009  "
      ]
     },
     "execution_count": 47,
     "metadata": {},
     "output_type": "execute_result"
    }
   ],
   "source": [
    "df4 = pd.read_csv('houseprices.csv', index_col = 7)\n",
    "df4.head()"
   ]
  },
  {
   "cell_type": "code",
   "execution_count": 50,
   "metadata": {},
   "outputs": [],
   "source": [
    "df5 = df4[['GeoCode', 'AveragePrice']]"
   ]
  },
  {
   "cell_type": "code",
   "execution_count": 51,
   "metadata": {},
   "outputs": [
    {
     "data": {
      "text/html": [
       "<div>\n",
       "<style>\n",
       "    .dataframe thead tr:only-child th {\n",
       "        text-align: right;\n",
       "    }\n",
       "\n",
       "    .dataframe thead th {\n",
       "        text-align: left;\n",
       "    }\n",
       "\n",
       "    .dataframe tbody tr th {\n",
       "        vertical-align: top;\n",
       "    }\n",
       "</style>\n",
       "<table border=\"1\" class=\"dataframe\">\n",
       "  <thead>\n",
       "    <tr style=\"text-align: right;\">\n",
       "      <th></th>\n",
       "      <th>GeoCode</th>\n",
       "      <th>AveragePrice</th>\n",
       "    </tr>\n",
       "    <tr>\n",
       "      <th>Month</th>\n",
       "      <th></th>\n",
       "      <th></th>\n",
       "    </tr>\n",
       "  </thead>\n",
       "  <tbody>\n",
       "    <tr>\n",
       "      <th>2018-06</th>\n",
       "      <td>E07000136</td>\n",
       "      <td>153458</td>\n",
       "    </tr>\n",
       "    <tr>\n",
       "      <th>2018-06</th>\n",
       "      <td>E07000137</td>\n",
       "      <td>169255</td>\n",
       "    </tr>\n",
       "    <tr>\n",
       "      <th>2018-06</th>\n",
       "      <td>E07000138</td>\n",
       "      <td>147578</td>\n",
       "    </tr>\n",
       "    <tr>\n",
       "      <th>2018-06</th>\n",
       "      <td>E07000139</td>\n",
       "      <td>205763</td>\n",
       "    </tr>\n",
       "    <tr>\n",
       "      <th>2018-06</th>\n",
       "      <td>E07000140</td>\n",
       "      <td>185205</td>\n",
       "    </tr>\n",
       "  </tbody>\n",
       "</table>\n",
       "</div>"
      ],
      "text/plain": [
       "           GeoCode  AveragePrice\n",
       "Month                           \n",
       "2018-06  E07000136        153458\n",
       "2018-06  E07000137        169255\n",
       "2018-06  E07000138        147578\n",
       "2018-06  E07000139        205763\n",
       "2018-06  E07000140        185205"
      ]
     },
     "execution_count": 51,
     "metadata": {},
     "output_type": "execute_result"
    }
   ],
   "source": [
    "df5.head()"
   ]
  },
  {
   "cell_type": "code",
   "execution_count": 55,
   "metadata": {},
   "outputs": [
    {
     "data": {
      "text/html": [
       "<div>\n",
       "<style>\n",
       "    .dataframe thead tr:only-child th {\n",
       "        text-align: right;\n",
       "    }\n",
       "\n",
       "    .dataframe thead th {\n",
       "        text-align: left;\n",
       "    }\n",
       "\n",
       "    .dataframe tbody tr th {\n",
       "        vertical-align: top;\n",
       "    }\n",
       "</style>\n",
       "<table border=\"1\" class=\"dataframe\">\n",
       "  <thead>\n",
       "    <tr style=\"text-align: right;\">\n",
       "      <th></th>\n",
       "      <th>Code</th>\n",
       "      <th>Price</th>\n",
       "    </tr>\n",
       "    <tr>\n",
       "      <th>Month</th>\n",
       "      <th></th>\n",
       "      <th></th>\n",
       "    </tr>\n",
       "  </thead>\n",
       "  <tbody>\n",
       "    <tr>\n",
       "      <th>2018-06</th>\n",
       "      <td>E07000136</td>\n",
       "      <td>153458</td>\n",
       "    </tr>\n",
       "    <tr>\n",
       "      <th>2018-06</th>\n",
       "      <td>E07000137</td>\n",
       "      <td>169255</td>\n",
       "    </tr>\n",
       "    <tr>\n",
       "      <th>2018-06</th>\n",
       "      <td>E07000138</td>\n",
       "      <td>147578</td>\n",
       "    </tr>\n",
       "    <tr>\n",
       "      <th>2018-06</th>\n",
       "      <td>E07000139</td>\n",
       "      <td>205763</td>\n",
       "    </tr>\n",
       "    <tr>\n",
       "      <th>2018-06</th>\n",
       "      <td>E07000140</td>\n",
       "      <td>185205</td>\n",
       "    </tr>\n",
       "  </tbody>\n",
       "</table>\n",
       "</div>"
      ],
      "text/plain": [
       "              Code   Price\n",
       "Month                     \n",
       "2018-06  E07000136  153458\n",
       "2018-06  E07000137  169255\n",
       "2018-06  E07000138  147578\n",
       "2018-06  E07000139  205763\n",
       "2018-06  E07000140  185205"
      ]
     },
     "execution_count": 55,
     "metadata": {},
     "output_type": "execute_result"
    }
   ],
   "source": [
    "df5.columns = ['Code', 'Price']\n",
    "df5.head()\n",
    "\n"
   ]
  },
  {
   "cell_type": "code",
   "execution_count": 57,
   "metadata": {
    "collapsed": true
   },
   "outputs": [],
   "source": [
    "df5.to_csv('house_price.csv', header = False)"
   ]
  },
  {
   "cell_type": "code",
   "execution_count": 58,
   "metadata": {},
   "outputs": [
    {
     "data": {
      "text/html": [
       "<div>\n",
       "<style>\n",
       "    .dataframe thead tr:only-child th {\n",
       "        text-align: right;\n",
       "    }\n",
       "\n",
       "    .dataframe thead th {\n",
       "        text-align: left;\n",
       "    }\n",
       "\n",
       "    .dataframe tbody tr th {\n",
       "        vertical-align: top;\n",
       "    }\n",
       "</style>\n",
       "<table border=\"1\" class=\"dataframe\">\n",
       "  <thead>\n",
       "    <tr style=\"text-align: right;\">\n",
       "      <th></th>\n",
       "      <th>Code</th>\n",
       "      <th>Price</th>\n",
       "    </tr>\n",
       "  </thead>\n",
       "  <tbody>\n",
       "    <tr>\n",
       "      <th>2018-06</th>\n",
       "      <td>E07000136</td>\n",
       "      <td>153458</td>\n",
       "    </tr>\n",
       "    <tr>\n",
       "      <th>2018-06</th>\n",
       "      <td>E07000137</td>\n",
       "      <td>169255</td>\n",
       "    </tr>\n",
       "    <tr>\n",
       "      <th>2018-06</th>\n",
       "      <td>E07000138</td>\n",
       "      <td>147578</td>\n",
       "    </tr>\n",
       "    <tr>\n",
       "      <th>2018-06</th>\n",
       "      <td>E07000139</td>\n",
       "      <td>205763</td>\n",
       "    </tr>\n",
       "    <tr>\n",
       "      <th>2018-06</th>\n",
       "      <td>E07000140</td>\n",
       "      <td>185205</td>\n",
       "    </tr>\n",
       "  </tbody>\n",
       "</table>\n",
       "</div>"
      ],
      "text/plain": [
       "              Code   Price\n",
       "2018-06  E07000136  153458\n",
       "2018-06  E07000137  169255\n",
       "2018-06  E07000138  147578\n",
       "2018-06  E07000139  205763\n",
       "2018-06  E07000140  185205"
      ]
     },
     "execution_count": 58,
     "metadata": {},
     "output_type": "execute_result"
    }
   ],
   "source": [
    "df6 = pd.read_csv('house_price.csv', names = ['Code', 'Price'])\n",
    "df6.head()"
   ]
  },
  {
   "cell_type": "code",
   "execution_count": 60,
   "metadata": {},
   "outputs": [
    {
     "data": {
      "text/html": [
       "<div>\n",
       "<style>\n",
       "    .dataframe thead tr:only-child th {\n",
       "        text-align: right;\n",
       "    }\n",
       "\n",
       "    .dataframe thead th {\n",
       "        text-align: left;\n",
       "    }\n",
       "\n",
       "    .dataframe tbody tr th {\n",
       "        vertical-align: top;\n",
       "    }\n",
       "</style>\n",
       "<table border=\"1\" class=\"dataframe\">\n",
       "  <thead>\n",
       "    <tr style=\"text-align: right;\">\n",
       "      <th></th>\n",
       "      <th>Code</th>\n",
       "      <th>Value</th>\n",
       "    </tr>\n",
       "  </thead>\n",
       "  <tbody>\n",
       "    <tr>\n",
       "      <th>2018-06</th>\n",
       "      <td>E07000136</td>\n",
       "      <td>153458</td>\n",
       "    </tr>\n",
       "    <tr>\n",
       "      <th>2018-06</th>\n",
       "      <td>E07000137</td>\n",
       "      <td>169255</td>\n",
       "    </tr>\n",
       "    <tr>\n",
       "      <th>2018-06</th>\n",
       "      <td>E07000138</td>\n",
       "      <td>147578</td>\n",
       "    </tr>\n",
       "    <tr>\n",
       "      <th>2018-06</th>\n",
       "      <td>E07000139</td>\n",
       "      <td>205763</td>\n",
       "    </tr>\n",
       "    <tr>\n",
       "      <th>2018-06</th>\n",
       "      <td>E07000140</td>\n",
       "      <td>185205</td>\n",
       "    </tr>\n",
       "  </tbody>\n",
       "</table>\n",
       "</div>"
      ],
      "text/plain": [
       "              Code   Value\n",
       "2018-06  E07000136  153458\n",
       "2018-06  E07000137  169255\n",
       "2018-06  E07000138  147578\n",
       "2018-06  E07000139  205763\n",
       "2018-06  E07000140  185205"
      ]
     },
     "execution_count": 60,
     "metadata": {},
     "output_type": "execute_result"
    }
   ],
   "source": [
    "df6.rename(columns={'Price':'Value'}, inplace = True)\n",
    "df6.head()"
   ]
  },
  {
   "cell_type": "code",
   "execution_count": 66,
   "metadata": {},
   "outputs": [],
   "source": [
    "SL = pd.read_excel('sl_yeast.xlsx')"
   ]
  },
  {
   "cell_type": "code",
   "execution_count": 68,
   "metadata": {},
   "outputs": [
    {
     "data": {
      "text/html": [
       "<div>\n",
       "<style>\n",
       "    .dataframe thead tr:only-child th {\n",
       "        text-align: right;\n",
       "    }\n",
       "\n",
       "    .dataframe thead th {\n",
       "        text-align: left;\n",
       "    }\n",
       "\n",
       "    .dataframe tbody tr th {\n",
       "        vertical-align: top;\n",
       "    }\n",
       "</style>\n",
       "<table border=\"1\" class=\"dataframe\">\n",
       "  <thead>\n",
       "    <tr style=\"text-align: right;\">\n",
       "      <th></th>\n",
       "      <th>GeneASymbol</th>\n",
       "      <th>GeneAid</th>\n",
       "      <th>GeneBSymbol</th>\n",
       "      <th>GeneBid</th>\n",
       "      <th>PubmedID</th>\n",
       "      <th>Evidence</th>\n",
       "      <th>Type</th>\n",
       "      <th>Score</th>\n",
       "    </tr>\n",
       "  </thead>\n",
       "  <tbody>\n",
       "    <tr>\n",
       "      <th>0</th>\n",
       "      <td>BNI1</td>\n",
       "      <td>855450</td>\n",
       "      <td>SWE1</td>\n",
       "      <td>853252</td>\n",
       "      <td>12686605</td>\n",
       "      <td>NaN</td>\n",
       "      <td>NaN</td>\n",
       "      <td>NaN</td>\n",
       "    </tr>\n",
       "    <tr>\n",
       "      <th>1</th>\n",
       "      <td>BUD6</td>\n",
       "      <td>851029</td>\n",
       "      <td>SWE1</td>\n",
       "      <td>853252</td>\n",
       "      <td>12686605</td>\n",
       "      <td>BioGrid</td>\n",
       "      <td>SL</td>\n",
       "      <td>0.8</td>\n",
       "    </tr>\n",
       "    <tr>\n",
       "      <th>2</th>\n",
       "      <td>BEM1</td>\n",
       "      <td>852499</td>\n",
       "      <td>CDC42</td>\n",
       "      <td>850930</td>\n",
       "      <td>12960420</td>\n",
       "      <td>NaN</td>\n",
       "      <td>NaN</td>\n",
       "      <td>NaN</td>\n",
       "    </tr>\n",
       "    <tr>\n",
       "      <th>3</th>\n",
       "      <td>BEM4</td>\n",
       "      <td>855942</td>\n",
       "      <td>CDC42</td>\n",
       "      <td>850930</td>\n",
       "      <td>12960420</td>\n",
       "      <td>NaN</td>\n",
       "      <td>NaN</td>\n",
       "      <td>NaN</td>\n",
       "    </tr>\n",
       "    <tr>\n",
       "      <th>4</th>\n",
       "      <td>BNI1</td>\n",
       "      <td>855450</td>\n",
       "      <td>CDC42</td>\n",
       "      <td>850930</td>\n",
       "      <td>12960420</td>\n",
       "      <td>NaN</td>\n",
       "      <td>NaN</td>\n",
       "      <td>NaN</td>\n",
       "    </tr>\n",
       "  </tbody>\n",
       "</table>\n",
       "</div>"
      ],
      "text/plain": [
       "  GeneASymbol  GeneAid GeneBSymbol  GeneBid  PubmedID Evidence Type Score\n",
       "0        BNI1   855450        SWE1   853252  12686605      NaN  NaN   NaN\n",
       "1        BUD6   851029        SWE1   853252  12686605  BioGrid   SL   0.8\n",
       "2        BEM1   852499       CDC42   850930  12960420      NaN  NaN   NaN\n",
       "3        BEM4   855942       CDC42   850930  12960420      NaN  NaN   NaN\n",
       "4        BNI1   855450       CDC42   850930  12960420      NaN  NaN   NaN"
      ]
     },
     "execution_count": 68,
     "metadata": {},
     "output_type": "execute_result"
    }
   ],
   "source": [
    "SL.head()"
   ]
  },
  {
   "cell_type": "code",
   "execution_count": 70,
   "metadata": {},
   "outputs": [],
   "source": [
    "sl_pairs = SL[['GeneASymbol','GeneBSymbol']]\n",
    "sl_pairs.head()\n",
    "sl_pairs.to_csv('yeast_sl.csv')"
   ]
  },
  {
   "cell_type": "code",
   "execution_count": null,
   "metadata": {
    "collapsed": true
   },
   "outputs": [],
   "source": []
  }
 ],
 "metadata": {
  "kernelspec": {
   "display_name": "Python 3",
   "language": "python",
   "name": "python3"
  },
  "language_info": {
   "codemirror_mode": {
    "name": "ipython",
    "version": 3
   },
   "file_extension": ".py",
   "mimetype": "text/x-python",
   "name": "python",
   "nbconvert_exporter": "python",
   "pygments_lexer": "ipython3",
   "version": "3.6.1"
  }
 },
 "nbformat": 4,
 "nbformat_minor": 2
}
